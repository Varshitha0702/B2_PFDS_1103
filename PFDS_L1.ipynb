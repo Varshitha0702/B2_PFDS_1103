{
  "nbformat": 4,
  "nbformat_minor": 0,
  "metadata": {
    "colab": {
      "provenance": [],
      "authorship_tag": "ABX9TyMWcjkgTFJT5iiy4p6zS4sw",
      "include_colab_link": true
    },
    "kernelspec": {
      "name": "python3",
      "display_name": "Python 3"
    },
    "language_info": {
      "name": "python"
    }
  },
  "cells": [
    {
      "cell_type": "markdown",
      "metadata": {
        "id": "view-in-github",
        "colab_type": "text"
      },
      "source": [
        "<a href=\"https://colab.research.google.com/github/Varshitha0702/B2_PFDS_1103/blob/main/PFDS_L1.ipynb\" target=\"_parent\"><img src=\"https://colab.research.google.com/assets/colab-badge.svg\" alt=\"Open In Colab\"/></a>"
      ]
    },
    {
      "cell_type": "code",
      "source": [
        "def factorial(n, depth=0):\n",
        "    indent = \"  \" * depth\n",
        "    print(f\"{indent}Called factorial({n})\")\n",
        "\n",
        "    if n == 0 or n == 1:\n",
        "        print(f\"{indent}Base case reached: factorial({n}) = 1\")\n",
        "        return 1\n",
        "    else:\n",
        "        print(f\"{indent}Recursive case: factorial({n}) = {n} * factorial({n - 1})\")\n",
        "        result = n * factorial(n - 1, depth + 1)\n",
        "        print(f\"{indent}Returning: {n} * factorial({n - 1}) = {result}\")\n",
        "        return result\n",
        "num = int(input(\"Enter a number (≤ 10): \"))\n",
        "if 0 <= num <= 10:\n",
        "    print(f\"\\nCalculating factorial({num})...\\n\")\n",
        "    final_result = factorial(num)\n",
        "    print(f\"\\nFinal Result: factorial({num}) = {final_result}\")\n",
        "else:\n",
        "    print(\"Please enter a number between 0 and 10.\")\n"
      ],
      "metadata": {
        "colab": {
          "base_uri": "https://localhost:8080/"
        },
        "id": "uFy5WU9i_B6z",
        "outputId": "f4a4f32c-b33d-403f-887c-c7f3935c2d26"
      },
      "execution_count": 11,
      "outputs": [
        {
          "output_type": "stream",
          "name": "stdout",
          "text": [
            "Enter a number (≤ 10): 2\n",
            "\n",
            "Calculating factorial(2)...\n",
            "\n",
            "Called factorial(2)\n",
            "Recursive case: factorial(2) = 2 * factorial(1)\n",
            "  Called factorial(1)\n",
            "  Base case reached: factorial(1) = 1\n",
            "Returning: 2 * factorial(1) = 2\n",
            "\n",
            "Final Result: factorial(2) = 2\n"
          ]
        }
      ]
    },
    {
      "cell_type": "code",
      "source": [],
      "metadata": {
        "id": "ng2P-wzqBUIg"
      },
      "execution_count": null,
      "outputs": []
    }
  ]
}
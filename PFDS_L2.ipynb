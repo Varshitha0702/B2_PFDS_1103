{
  "nbformat": 4,
  "nbformat_minor": 0,
  "metadata": {
    "colab": {
      "provenance": [],
      "authorship_tag": "ABX9TyPC4hyL3tho5zMPzBqkYWss",
      "include_colab_link": true
    },
    "kernelspec": {
      "name": "python3",
      "display_name": "Python 3"
    },
    "language_info": {
      "name": "python"
    }
  },
  "cells": [
    {
      "cell_type": "markdown",
      "metadata": {
        "id": "view-in-github",
        "colab_type": "text"
      },
      "source": [
        "<a href=\"https://colab.research.google.com/github/Varshitha0702/B2_PFDS_1103/blob/main/PFDS_L2.ipynb\" target=\"_parent\"><img src=\"https://colab.research.google.com/assets/colab-badge.svg\" alt=\"Open In Colab\"/></a>"
      ]
    },
    {
      "cell_type": "markdown",
      "source": [
        "## Create a 2D NumPy array for student marks in 3 subjects"
      ],
      "metadata": {
        "id": "M6IrIfhiMtF5"
      }
    },
    {
      "cell_type": "code",
      "execution_count": null,
      "metadata": {
        "colab": {
          "base_uri": "https://localhost:8080/"
        },
        "id": "XFx-DufvEKqS",
        "outputId": "47dd8f55-a1c3-4b7b-d311-48f57a40e38f"
      },
      "outputs": [
        {
          "output_type": "stream",
          "name": "stdout",
          "text": [
            "[[69 70 80]\n",
            " [80 95 95]\n",
            " [88 96 99]]\n"
          ]
        }
      ],
      "source": [
        "import numpy as np\n",
        "arr = np.array([[69,70,80],[80,95,95],[88,96,99]])\n",
        "print(arr)"
      ]
    },
    {
      "cell_type": "markdown",
      "source": [
        "## Calculate average, minimum, and maximum marks"
      ],
      "metadata": {
        "id": "9rvQRpZtM9yC"
      }
    },
    {
      "cell_type": "code",
      "source": [
        "mean=np.mean(arr)\n",
        "print(mean)\n",
        "minimum=np.min(arr)\n",
        "print(minimum)\n",
        "maximum=np.max(arr)\n",
        "print(maximum)"
      ],
      "metadata": {
        "colab": {
          "base_uri": "https://localhost:8080/"
        },
        "id": "Aq8XAWkwGdz5",
        "outputId": "5439796d-63b5-4319-a144-3d83e4250f15"
      },
      "execution_count": null,
      "outputs": [
        {
          "output_type": "stream",
          "name": "stdout",
          "text": [
            "85.77777777777777\n",
            "69\n",
            "99\n"
          ]
        }
      ]
    },
    {
      "cell_type": "code",
      "source": [
        "for i in range(len(arr)):\n",
        "    print(f\"Student {i+1}: Marks = {arr[i]}, Avg = {average_per_student[i]:.2f}, Min = {min_per_student[i]}, Max = {max_per_student[i]}\")"
      ],
      "metadata": {
        "colab": {
          "base_uri": "https://localhost:8080/"
        },
        "id": "ikaYFV_KJ1G6",
        "outputId": "27d5d13c-d1e5-4232-9229-67427559f464"
      },
      "execution_count": null,
      "outputs": [
        {
          "output_type": "stream",
          "name": "stdout",
          "text": [
            "Student 1: Marks = [69 70 80], Avg = 73.00, Min = 69, Max = 80\n",
            "Student 2: Marks = [80 95 95], Avg = 90.00, Min = 80, Max = 95\n",
            "Student 3: Marks = [88 96 99], Avg = 94.33, Min = 88, Max = 99\n"
          ]
        }
      ]
    },
    {
      "cell_type": "markdown",
      "source": [
        "## Use slicing to retrieve marks of specific students"
      ],
      "metadata": {
        "id": "XpkPXYnSNGDF"
      }
    },
    {
      "cell_type": "code",
      "source": [
        "# Use slicing to retrieve marks of specific students\n",
        "print(\"Marks of Student 1:\",arr[0:1])"
      ],
      "metadata": {
        "colab": {
          "base_uri": "https://localhost:8080/"
        },
        "id": "u4u0bi1fHXKi",
        "outputId": "8c0b046f-6c78-4522-b595-0742f1c3b261"
      },
      "execution_count": null,
      "outputs": [
        {
          "output_type": "stream",
          "name": "stdout",
          "text": [
            "Marks of Student 1: [[69 70 80]]\n"
          ]
        }
      ]
    },
    {
      "cell_type": "markdown",
      "source": [
        "## Use boolean indexing to find students scoring above 80\n"
      ],
      "metadata": {
        "id": "fvTBjS4GNKwt"
      }
    },
    {
      "cell_type": "code",
      "source": [
        "above_80 = arr > 80\n",
        "print(\"Boolean Array (Scores > 80):\\n\", above_80)"
      ],
      "metadata": {
        "colab": {
          "base_uri": "https://localhost:8080/"
        },
        "id": "2NQ0vy3OHds7",
        "outputId": "e247ad01-44dc-4161-e187-e145266ad01a"
      },
      "execution_count": null,
      "outputs": [
        {
          "output_type": "stream",
          "name": "stdout",
          "text": [
            "Boolean Array (Scores > 80):\n",
            " [[False False False]\n",
            " [False  True  True]\n",
            " [ True  True  True]]\n"
          ]
        }
      ]
    },
    {
      "cell_type": "markdown",
      "source": [
        "## Reshape the array to observe subject-wise performance"
      ],
      "metadata": {
        "id": "_ISaJdyfNQvc"
      }
    },
    {
      "cell_type": "code",
      "source": [
        "subject_wise = arr.T\n",
        "print(\"\\n Subject-wise Performance (Rows = Subjects):\\n\", subject_wise)"
      ],
      "metadata": {
        "colab": {
          "base_uri": "https://localhost:8080/"
        },
        "id": "VWafDf27KgAr",
        "outputId": "b5209f9e-02e1-4fe6-9b12-42436abc58b9"
      },
      "execution_count": null,
      "outputs": [
        {
          "output_type": "stream",
          "name": "stdout",
          "text": [
            "\n",
            " Subject-wise Performance (Rows = Subjects):\n",
            " [[69 80 88]\n",
            " [70 95 96]\n",
            " [80 95 99]]\n"
          ]
        }
      ]
    },
    {
      "cell_type": "code",
      "source": [],
      "metadata": {
        "id": "C4b9inEFL5Yg"
      },
      "execution_count": null,
      "outputs": []
    }
  ]
}
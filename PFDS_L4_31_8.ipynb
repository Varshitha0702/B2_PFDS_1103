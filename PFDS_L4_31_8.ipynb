{
  "nbformat": 4,
  "nbformat_minor": 0,
  "metadata": {
    "colab": {
      "provenance": [],
      "authorship_tag": "ABX9TyMIs9anXn0772ah1qR5IU5Y",
      "include_colab_link": true
    },
    "kernelspec": {
      "name": "python3",
      "display_name": "Python 3"
    },
    "language_info": {
      "name": "python"
    }
  },
  "cells": [
    {
      "cell_type": "markdown",
      "metadata": {
        "id": "view-in-github",
        "colab_type": "text"
      },
      "source": [
        "<a href=\"https://colab.research.google.com/github/Varshitha0702/B2_PFDS_1103/blob/main/PFDS_L4_31_8.ipynb\" target=\"_parent\"><img src=\"https://colab.research.google.com/assets/colab-badge.svg\" alt=\"Open In Colab\"/></a>"
      ]
    },
    {
      "cell_type": "markdown",
      "source": [
        "# Sales Data Cleaning\n"
      ],
      "metadata": {
        "id": "8ZGh9VebJoXD"
      }
    },
    {
      "cell_type": "code",
      "source": [
        "import pandas as pd\n",
        "\n",
        "# Read the CSV file\n",
        "df = pd.read_csv(\"/content/sales_data.csv\")"
      ],
      "metadata": {
        "id": "J2nr9iDtQ4Cz"
      },
      "execution_count": 1,
      "outputs": []
    },
    {
      "cell_type": "markdown",
      "source": [
        "## Remove rows with missing Product or Quantity\n"
      ],
      "metadata": {
        "id": "anjDcAsq_sCJ"
      }
    },
    {
      "cell_type": "code",
      "source": [
        "df = df.dropna(subset=[\"Product\", \"Quantity\"])"
      ],
      "metadata": {
        "id": "haM8CszP_qhA"
      },
      "execution_count": 2,
      "outputs": []
    },
    {
      "cell_type": "markdown",
      "source": [
        "# Fill missing Price with the mean of Price"
      ],
      "metadata": {
        "id": "dOInc5EOAJic"
      }
    },
    {
      "cell_type": "code",
      "source": [
        "df[\"Price\"] = df[\"Price\"].fillna(df[\"Price\"].mean())"
      ],
      "metadata": {
        "id": "F5mOvzvN_3cQ"
      },
      "execution_count": 7,
      "outputs": []
    },
    {
      "cell_type": "markdown",
      "source": [
        "## If Total is missing, calculate it as Quantity × Price"
      ],
      "metadata": {
        "id": "hqjmh7MJAGwG"
      }
    },
    {
      "cell_type": "code",
      "source": [
        "df[\"Total\"] = df[\"Total\"].fillna(df[\"Quantity\"] * df[\"Price\"])"
      ],
      "metadata": {
        "id": "MTRxvZhv_6A_"
      },
      "execution_count": 8,
      "outputs": []
    },
    {
      "cell_type": "markdown",
      "source": [
        "## Display all records with Total > 1000"
      ],
      "metadata": {
        "id": "n2cK27XFAEUj"
      }
    },
    {
      "cell_type": "code",
      "source": [
        "high_value = df[df[\"Total\"] > 1000]\n",
        "print(\"Cleaned Sales Data:\\n\", df)\n",
        "print(\"\\nTransactions with Total > 1000:\\n\", high_value)"
      ],
      "metadata": {
        "id": "nvqf4_bE_8k1",
        "colab": {
          "base_uri": "https://localhost:8080/"
        },
        "outputId": "f4e07a56-6a97-4bcd-8362-e112617591ec"
      },
      "execution_count": 5,
      "outputs": [
        {
          "output_type": "stream",
          "name": "stdout",
          "text": [
            "Cleaned Sales Data:\n",
            "    Invoice_No   Customer_Name   Product  Quantity       Price        Total\n",
            "0         101     Ross Taylor    Laptop       2.0  500.000000  1000.000000\n",
            "1         102    Rachel Green    Mobile       1.0  700.000000   700.000000\n",
            "3         104   Chandler Bing  Keyboard       3.0  516.666667   450.000000\n",
            "4         105  Joey Tribbiani   Monitor       2.0  300.000000   600.000000\n",
            "5         106   Phoebe Buffay     Mouse       5.0  516.666667  2583.333333\n",
            "6         107     Ross Taylor    Tablet       1.0  800.000000   800.000000\n",
            "7         108    Rachel Green    Laptop       3.0  520.000000  1560.000000\n",
            "8         109   Chandler Bing    Mobile       2.0  516.666667  1033.333333\n",
            "9         110   Monica Geller   Monitor       4.0  280.000000  1120.000000\n",
            "\n",
            "Transactions with Total > 1000:\n",
            "    Invoice_No  Customer_Name  Product  Quantity       Price        Total\n",
            "5         106  Phoebe Buffay    Mouse       5.0  516.666667  2583.333333\n",
            "7         108   Rachel Green   Laptop       3.0  520.000000  1560.000000\n",
            "8         109  Chandler Bing   Mobile       2.0  516.666667  1033.333333\n",
            "9         110  Monica Geller  Monitor       4.0  280.000000  1120.000000\n"
          ]
        }
      ]
    },
    {
      "cell_type": "markdown",
      "source": [
        "# Job Applicants Filtering\n"
      ],
      "metadata": {
        "id": "zqeg1bBxDa-n"
      }
    },
    {
      "cell_type": "code",
      "source": [
        "import pandas as pd\n",
        "\n",
        "df = pd.read_csv(\"/content/applicants.csv\")\n",
        "print(\"Original Data:\\n\", df)"
      ],
      "metadata": {
        "colab": {
          "base_uri": "https://localhost:8080/"
        },
        "id": "cvjdBUT6Degp",
        "outputId": "197fc961-3ca6-433c-b342-5c13a449b186"
      },
      "execution_count": 12,
      "outputs": [
        {
          "output_type": "stream",
          "name": "stdout",
          "text": [
            "Original Data:\n",
            "    Applicant_ID     Name  Degree  Experience_Years  Python_Score       Status\n",
            "0             1    Alice  B.Tech               3.0          85.0      Applied\n",
            "1             2      Bob     MCA               NaN          75.0  Shortlisted\n",
            "2             3  Charlie    B.Sc               5.0           NaN      Applied\n",
            "3             4    David     MBA               1.0          90.0      Applied\n",
            "4             5      Eve  B.Tech               NaN          95.0  Shortlisted\n",
            "5             6    Frank  M.Tech               4.0          60.0     Rejected\n",
            "6             7    Grace     BCA               2.0          88.0      Applied\n"
          ]
        }
      ]
    },
    {
      "cell_type": "markdown",
      "source": [
        "## Drop rows missing Python_Score"
      ],
      "metadata": {
        "id": "_gmgyUxXDkbP"
      }
    },
    {
      "cell_type": "code",
      "source": [
        "df = df.dropna(subset=[\"Python_Score\"])\n",
        "print(\"After dropping missing Python_Score:\\n\", df)"
      ],
      "metadata": {
        "colab": {
          "base_uri": "https://localhost:8080/"
        },
        "id": "9ToIXWOLDoC5",
        "outputId": "0abf9fde-6694-465e-8d64-fe2e2782ad33"
      },
      "execution_count": 13,
      "outputs": [
        {
          "output_type": "stream",
          "name": "stdout",
          "text": [
            "After dropping missing Python_Score:\n",
            "    Applicant_ID   Name  Degree  Experience_Years  Python_Score       Status\n",
            "0             1  Alice  B.Tech               3.0          85.0      Applied\n",
            "1             2    Bob     MCA               NaN          75.0  Shortlisted\n",
            "3             4  David     MBA               1.0          90.0      Applied\n",
            "4             5    Eve  B.Tech               NaN          95.0  Shortlisted\n",
            "5             6  Frank  M.Tech               4.0          60.0     Rejected\n",
            "6             7  Grace     BCA               2.0          88.0      Applied\n"
          ]
        }
      ]
    },
    {
      "cell_type": "markdown",
      "source": [
        "## Replace missing Experience_Years with 0"
      ],
      "metadata": {
        "id": "r4kvp7bvDqR8"
      }
    },
    {
      "cell_type": "code",
      "source": [
        "df[\"Experience_Years\"] = df[\"Experience_Years\"].fillna(0)\n",
        "print(\"After filling missing Experience_Years:\\n\", df)"
      ],
      "metadata": {
        "colab": {
          "base_uri": "https://localhost:8080/"
        },
        "id": "si5Ln8fbDwPk",
        "outputId": "853e569a-321d-4515-9434-ebe15ca50e1f"
      },
      "execution_count": 14,
      "outputs": [
        {
          "output_type": "stream",
          "name": "stdout",
          "text": [
            "After filling missing Experience_Years:\n",
            "    Applicant_ID   Name  Degree  Experience_Years  Python_Score       Status\n",
            "0             1  Alice  B.Tech               3.0          85.0      Applied\n",
            "1             2    Bob     MCA               0.0          75.0  Shortlisted\n",
            "3             4  David     MBA               1.0          90.0      Applied\n",
            "4             5    Eve  B.Tech               0.0          95.0  Shortlisted\n",
            "5             6  Frank  M.Tech               4.0          60.0     Rejected\n",
            "6             7  Grace     BCA               2.0          88.0      Applied\n"
          ]
        }
      ]
    },
    {
      "cell_type": "markdown",
      "source": [
        "## Filter applicants with Python_Score > 80 and Experience_Years > 2"
      ],
      "metadata": {
        "id": "FnSrfmQFDzxa"
      }
    },
    {
      "cell_type": "code",
      "source": [
        "filtered = df[(df[\"Python_Score\"] > 80) & (df[\"Experience_Years\"] > 2)]\n",
        "print(\"Qualified Applicants:\\n\", filtered)"
      ],
      "metadata": {
        "colab": {
          "base_uri": "https://localhost:8080/"
        },
        "id": "5pQ0JCPuD21_",
        "outputId": "333ff5fe-4d6f-421a-a2f1-3241ba85d413"
      },
      "execution_count": 15,
      "outputs": [
        {
          "output_type": "stream",
          "name": "stdout",
          "text": [
            "Qualified Applicants:\n",
            "    Applicant_ID   Name  Degree  Experience_Years  Python_Score   Status\n",
            "0             1  Alice  B.Tech               3.0          85.0  Applied\n"
          ]
        }
      ]
    }
  ]
}
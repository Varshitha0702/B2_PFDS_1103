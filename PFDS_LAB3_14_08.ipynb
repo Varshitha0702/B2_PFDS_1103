{
  "nbformat": 4,
  "nbformat_minor": 0,
  "metadata": {
    "colab": {
      "provenance": [],
      "authorship_tag": "ABX9TyNb2R00FVQ+nSnWF2AStwMD",
      "include_colab_link": true
    },
    "kernelspec": {
      "name": "python3",
      "display_name": "Python 3"
    },
    "language_info": {
      "name": "python"
    }
  },
  "cells": [
    {
      "cell_type": "markdown",
      "metadata": {
        "id": "view-in-github",
        "colab_type": "text"
      },
      "source": [
        "<a href=\"https://colab.research.google.com/github/Varshitha0702/B2_PFDS_1103/blob/main/PFDS_LAB3_14_08.ipynb\" target=\"_parent\"><img src=\"https://colab.research.google.com/assets/colab-badge.svg\" alt=\"Open In Colab\"/></a>"
      ]
    },
    {
      "cell_type": "markdown",
      "source": [
        "# **Matrix Addition and Subtraction**"
      ],
      "metadata": {
        "id": "De50cDIi3Uw6"
      }
    },
    {
      "cell_type": "markdown",
      "source": [
        "## Create two 3x3 NumPy arrays with random integers"
      ],
      "metadata": {
        "id": "eOzt5OeT1CEg"
      }
    },
    {
      "cell_type": "code",
      "execution_count": 2,
      "metadata": {
        "colab": {
          "base_uri": "https://localhost:8080/"
        },
        "id": "2di6Mx_b02h7",
        "outputId": "8bc2e015-3d24-42f2-f97e-3bedb3047ed3"
      },
      "outputs": [
        {
          "output_type": "stream",
          "name": "stdout",
          "text": [
            "Matrix 1:\n",
            " [[7 0 9]\n",
            " [2 2 1]\n",
            " [9 1 0]]\n",
            "Matrix 2:\n",
            " [[5 9 5]\n",
            " [1 7 9]\n",
            " [9 8 8]]\n"
          ]
        }
      ],
      "source": [
        "import numpy as np\n",
        "m1 = np.random.randint(10, size=(3, 3))\n",
        "m2 = np.random.randint(10, size=(3, 3))\n",
        "print(\"Matrix 1:\\n\",m1)\n",
        "print(\"Matrix 2:\\n\",m2)"
      ]
    },
    {
      "cell_type": "markdown",
      "source": [
        "## Perform element-wise addition and subtraction"
      ],
      "metadata": {
        "id": "QpSAa1dD1zzw"
      }
    },
    {
      "cell_type": "code",
      "source": [
        "sum = m1 + m2\n",
        "diff = m1 - m2"
      ],
      "metadata": {
        "id": "6R33hXCC1kVp"
      },
      "execution_count": 4,
      "outputs": []
    },
    {
      "cell_type": "markdown",
      "source": [
        "## Display original matrices and results"
      ],
      "metadata": {
        "id": "fyx_pPTh2Eks"
      }
    },
    {
      "cell_type": "code",
      "source": [
        "print(\"Original Matrix 1:\\n\",m1)\n",
        "print(\"Original Matrix 2:\\n\",m2)\n",
        "print(\"Element-wise Addition Result:\\n\",sum)\n",
        "print(\"Element-wise Subtraction Result:\\n\",diff)"
      ],
      "metadata": {
        "colab": {
          "base_uri": "https://localhost:8080/"
        },
        "id": "IWJ6AVzA157I",
        "outputId": "7cd9ee94-24d9-42e9-e6a5-4816f73ffaef"
      },
      "execution_count": 6,
      "outputs": [
        {
          "output_type": "stream",
          "name": "stdout",
          "text": [
            "Original Matrix 1:\n",
            " [[7 0 9]\n",
            " [2 2 1]\n",
            " [9 1 0]]\n",
            "Original Matrix 2:\n",
            " [[5 9 5]\n",
            " [1 7 9]\n",
            " [9 8 8]]\n",
            "Element-wise Addition Result:\n",
            " [[12  9 14]\n",
            " [ 3  9 10]\n",
            " [18  9  8]]\n",
            "Element-wise Subtraction Result:\n",
            " [[ 2 -9  4]\n",
            " [ 1 -5 -8]\n",
            " [ 0 -7 -8]]\n"
          ]
        }
      ]
    },
    {
      "cell_type": "markdown",
      "source": [
        "## Use functions like np.add() and np.subtract()"
      ],
      "metadata": {
        "id": "9VpAxBZF2oHK"
      }
    },
    {
      "cell_type": "code",
      "source": [
        "add = np.add(m1, m2)\n",
        "sub = np.subtract(m1, m2)\n",
        "print(add)\n",
        "print(sub)"
      ],
      "metadata": {
        "colab": {
          "base_uri": "https://localhost:8080/"
        },
        "id": "EaP_xhzN2TVS",
        "outputId": "cc6eb3ff-d439-489e-9835-95a9acea225e"
      },
      "execution_count": 8,
      "outputs": [
        {
          "output_type": "stream",
          "name": "stdout",
          "text": [
            "[[12  9 14]\n",
            " [ 3  9 10]\n",
            " [18  9  8]]\n",
            "[[ 2 -9  4]\n",
            " [ 1 -5 -8]\n",
            " [ 0 -7 -8]]\n"
          ]
        }
      ]
    },
    {
      "cell_type": "markdown",
      "source": [
        "## **2D Matrix Multiplication (Dot Product)**"
      ],
      "metadata": {
        "id": "OUCi8loa3qZn"
      }
    },
    {
      "cell_type": "markdown",
      "source": [
        "## Create two compatible 2D arrays (e.g., 3x2 and 2x3)"
      ],
      "metadata": {
        "id": "LgVbaD5N3rxw"
      }
    },
    {
      "cell_type": "code",
      "source": [
        "m1 = np.random.randint(10, size=(3, 2))\n",
        "m2 = np.random.randint(10, size=(2, 3))\n",
        "print(\"Matrix 1:\\n\",m1)\n",
        "print(\"Matrix 2:\\n\",m2)"
      ],
      "metadata": {
        "id": "gweTlgEP38wt"
      },
      "execution_count": null,
      "outputs": []
    },
    {
      "cell_type": "markdown",
      "source": [
        "## Use np.dot() or @ operator to perform dot product"
      ],
      "metadata": {
        "id": "PcbUbN3P4Cws"
      }
    },
    {
      "cell_type": "code",
      "source": [
        "dp = np.dot(m1, m2)"
      ],
      "metadata": {
        "id": "kEENAwuS4Ep3"
      },
      "execution_count": 10,
      "outputs": []
    },
    {
      "cell_type": "markdown",
      "source": [
        "## Print intermediate and final results"
      ],
      "metadata": {
        "id": "GnLhksQE4Q6t"
      }
    },
    {
      "cell_type": "code",
      "source": [
        "print(\"Final Result:\\n\",dp)"
      ],
      "metadata": {
        "colab": {
          "base_uri": "https://localhost:8080/"
        },
        "id": "6_xaFf4D4JXc",
        "outputId": "77c4adff-98d5-4063-9341-0c34ca78a3f8"
      },
      "execution_count": 11,
      "outputs": [
        {
          "output_type": "stream",
          "name": "stdout",
          "text": [
            "Final Result:\n",
            " [[116 135 107]\n",
            " [ 21  40  36]\n",
            " [ 46  88  54]]\n"
          ]
        }
      ]
    },
    {
      "cell_type": "markdown",
      "source": [
        "## Simulate use in real-world scenario (e.g., image filters)"
      ],
      "metadata": {
        "id": "9aJehSel43RI"
      }
    },
    {
      "cell_type": "code",
      "source": [
        "image = np.array([[50, 100],\n",
        "                  [150, 200],\n",
        "                  [250, 255]])  # Pixel intensities (grayscale)\n",
        "\n",
        "filter_matrix = np.array([[1, 0.5, 0],\n",
        "                           [0, 0.5, 1]])  # Transformation filter\n",
        "\n",
        "transformed_image = image @ filter_matrix\n",
        "print(\"Original Image:\\n\",image)\n",
        "print(\"Transformed Image:\\n\",transformed_image)"
      ],
      "metadata": {
        "colab": {
          "base_uri": "https://localhost:8080/"
        },
        "id": "2Owew89V5gZp",
        "outputId": "3e0ddff8-4034-4543-b231-9c58ee4a5004"
      },
      "execution_count": 17,
      "outputs": [
        {
          "output_type": "stream",
          "name": "stdout",
          "text": [
            "Original Image:\n",
            " [[ 50 100]\n",
            " [150 200]\n",
            " [250 255]]\n",
            "Transformed Image:\n",
            " [[ 50.   75.  100. ]\n",
            " [150.  175.  200. ]\n",
            " [250.  252.5 255. ]]\n"
          ]
        }
      ]
    },
    {
      "cell_type": "markdown",
      "source": [
        "## Optional: Visualize matrices using matplotlib"
      ],
      "metadata": {
        "id": "_SkxDjp5604m"
      }
    },
    {
      "cell_type": "code",
      "source": [
        "import matplotlib.pyplot as plt\n",
        "fig, axs = plt.subplots(1, 2, figsize=(6, 3))\n",
        "axs[0].imshow(image, cmap='gray')\n",
        "axs[0].set_title(\"Original Image (3x2)\")\n",
        "axs[1].imshow(transformed_image, cmap='gray')\n",
        "axs[1].set_title(\"Transformed Image (3x3)\")\n",
        "\n",
        "for ax in axs:\n",
        "    ax.axis('off')\n",
        "\n",
        "plt.tight_layout()\n",
        "plt.show()"
      ],
      "metadata": {
        "colab": {
          "base_uri": "https://localhost:8080/",
          "height": 307
        },
        "id": "BWo_Exhb58_Y",
        "outputId": "df7a40f9-cbfa-426b-d346-7c47c9710c57"
      },
      "execution_count": 18,
      "outputs": [
        {
          "output_type": "display_data",
          "data": {
            "text/plain": [
              "<Figure size 600x300 with 2 Axes>"
            ],
            "image/png": "[encoded data removed]"
          },
          "metadata": {}
        }
      ]
    },
    {
      "cell_type": "code",
      "source": [],
      "metadata": {
        "id": "xF_btUyf6CTc"
      },
      "execution_count": null,
      "outputs": []
    }
  ]
}
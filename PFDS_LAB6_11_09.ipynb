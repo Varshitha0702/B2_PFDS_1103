{
  "nbformat": 4,
  "nbformat_minor": 0,
  "metadata": {
    "colab": {
      "provenance": [],
      "authorship_tag": "ABX9TyNuOycA3poN3qqOBrIR0xs4",
      "include_colab_link": true
    },
    "kernelspec": {
      "name": "python3",
      "display_name": "Python 3"
    },
    "language_info": {
      "name": "python"
    }
  },
  "cells": [
    {
      "cell_type": "markdown",
      "metadata": {
        "id": "view-in-github",
        "colab_type": "text"
      },
      "source": [
        "<a href=\"https://colab.research.google.com/github/Varshitha0702/B2_PFDS_1103/blob/main/PFDS_LAB6_11_09.ipynb\" target=\"_parent\"><img src=\"https://colab.research.google.com/assets/colab-badge.svg\" alt=\"Open In Colab\"/></a>"
      ]
    },
    {
      "cell_type": "markdown",
      "source": [
        "# Sales Dataset – Removing Duplicates"
      ],
      "metadata": {
        "id": "En7DhI-hZAZ2"
      }
    },
    {
      "cell_type": "code",
      "source": [
        "import pandas as pd\n",
        "\n",
        "# Create Sample Sales Dataset with Duplicate Entries\n",
        "data = {\n",
        "    'TransactionID': [1001, 1002, 1003, 1001, 1004, 1002, 1005],\n",
        "    'Product': ['Laptop', 'Mouse', 'Keyboard', 'Laptop', 'Monitor', 'Mouse', 'Headphones'],\n",
        "    'Quantity': [1, 2, 1, 1, 1, 2, 1],\n",
        "    'Price': [1000, 25, 45, 1000, 200, 25, 50],\n",
        "    'Date': ['2025-09-10', '2025-09-10', '2025-09-11', '2025-09-10', '2025-09-12', '2025-09-10', '2025-09-13']\n",
        "}\n",
        "\n",
        "df = pd.DataFrame(data)\n",
        "\n",
        "print(\"Original Dataset:\")\n",
        "print(df)"
      ],
      "metadata": {
        "colab": {
          "base_uri": "https://localhost:8080/"
        },
        "id": "itacbQdVUvgA",
        "outputId": "35c8f53f-a554-49c7-81c4-f667efcc4e54"
      },
      "execution_count": null,
      "outputs": [
        {
          "output_type": "stream",
          "name": "stdout",
          "text": [
            "Original Dataset:\n",
            "   TransactionID     Product  Quantity  Price        Date\n",
            "0           1001      Laptop         1   1000  2025-09-10\n",
            "1           1002       Mouse         2     25  2025-09-10\n",
            "2           1003    Keyboard         1     45  2025-09-11\n",
            "3           1001      Laptop         1   1000  2025-09-10\n",
            "4           1004     Monitor         1    200  2025-09-12\n",
            "5           1002       Mouse         2     25  2025-09-10\n",
            "6           1005  Headphones         1     50  2025-09-13\n"
          ]
        }
      ]
    },
    {
      "cell_type": "code",
      "source": [
        "# Identify Duplicates\n",
        "duplicate_count_before = df.duplicated().sum()\n",
        "print(f\"\\n Duplicate records before cleaning: {duplicate_count_before}\")"
      ],
      "metadata": {
        "colab": {
          "base_uri": "https://localhost:8080/"
        },
        "id": "a4Mqk9opaFJS",
        "outputId": "5e88c3d9-c95a-41d3-f135-837a626cdd1f"
      },
      "execution_count": null,
      "outputs": [
        {
          "output_type": "stream",
          "name": "stdout",
          "text": [
            "\n",
            " Duplicate records before cleaning: 2\n"
          ]
        }
      ]
    },
    {
      "cell_type": "code",
      "source": [
        "# Remove Duplicates\n",
        "df_cleaned = df.drop_duplicates()\n",
        "\n",
        "duplicate_count_after = df_cleaned.duplicated().sum()\n",
        "print(f\" Duplicate records after cleaning: {duplicate_count_after}\")"
      ],
      "metadata": {
        "colab": {
          "base_uri": "https://localhost:8080/"
        },
        "id": "2cAe8qjlaHQI",
        "outputId": "74b4377c-8abc-406f-d0ea-2faac6170da3"
      },
      "execution_count": null,
      "outputs": [
        {
          "output_type": "stream",
          "name": "stdout",
          "text": [
            " Duplicate records after cleaning: 0\n"
          ]
        }
      ]
    },
    {
      "cell_type": "code",
      "source": [
        "# Final Cleaned Dataset\n",
        "print(\"\\nCleaned Dataset:\")\n",
        "print(df_cleaned)\n",
        "\n",
        "# Save to CSV (Optional)\n",
        "df_cleaned.to_csv('cleaned_sales_dataset.csv', index=False)"
      ],
      "metadata": {
        "colab": {
          "base_uri": "https://localhost:8080/"
        },
        "id": "dSgiyyldaK8V",
        "outputId": "a49292ae-b57c-4e77-99db-c17a9bdd00b0"
      },
      "execution_count": null,
      "outputs": [
        {
          "output_type": "stream",
          "name": "stdout",
          "text": [
            "\n",
            "Cleaned Dataset:\n",
            "   TransactionID     Product  Quantity  Price        Date\n",
            "0           1001      Laptop         1   1000  2025-09-10\n",
            "1           1002       Mouse         2     25  2025-09-10\n",
            "2           1003    Keyboard         1     45  2025-09-11\n",
            "4           1004     Monitor         1    200  2025-09-12\n",
            "6           1005  Headphones         1     50  2025-09-13\n"
          ]
        }
      ]
    },
    {
      "cell_type": "markdown",
      "source": [
        "# Employee Dataset – Converting Data Types"
      ],
      "metadata": {
        "id": "1vFHRKnpZqwx"
      }
    },
    {
      "cell_type": "code",
      "source": [
        "import pandas as pd\n",
        "\n",
        "# Create dataset with Salary stored as string.\n",
        "data = {\n",
        "    'EmployeeID': [101, 102, 103, 104],\n",
        "    'Name': ['Alice', 'Bob', 'Charlie', 'Diana'],\n",
        "    'Salary': ['50000', '60000', '55000', '70000'],    # Salary as string\n",
        "    'Joining_Date': ['2021-01-15', '2020-05-20', '2019-11-10', '2022-07-01']  # Date as string\n",
        "}\n",
        "\n",
        "df = pd.DataFrame(data)\n",
        "\n",
        "print(\" Original Data Types:\")\n",
        "print(df.dtypes)\n"
      ],
      "metadata": {
        "colab": {
          "base_uri": "https://localhost:8080/"
        },
        "id": "lLspxDFqX_np",
        "outputId": "2b95e3d8-762d-4f60-c7c6-288036caeceb"
      },
      "execution_count": null,
      "outputs": [
        {
          "output_type": "stream",
          "name": "stdout",
          "text": [
            " Original Data Types:\n",
            "EmployeeID       int64\n",
            "Name            object\n",
            "Salary          object\n",
            "Joining_Date    object\n",
            "dtype: object\n"
          ]
        }
      ]
    },
    {
      "cell_type": "code",
      "source": [
        "# Convert Joining_Date to datetime\n",
        "df['Joining_Date'] = pd.to_datetime(df['Joining_Date'])\n",
        "\n",
        "# Output Corrected Data Types\n",
        "print(\"\\nCorrected Data Types:\")\n",
        "print(df.dtypes)\n",
        "\n",
        "# Display Cleaned Data\n",
        "print(\"\\n Cleaned Employee Dataset:\")\n",
        "print(df)"
      ],
      "metadata": {
        "colab": {
          "base_uri": "https://localhost:8080/"
        },
        "id": "1qcwdWxKaTgb",
        "outputId": "c0d6322d-40cf-415a-fbe3-7dc1db84cf33"
      },
      "execution_count": null,
      "outputs": [
        {
          "output_type": "stream",
          "name": "stdout",
          "text": [
            "\n",
            "Corrected Data Types:\n",
            "EmployeeID               int64\n",
            "Name                    object\n",
            "Salary                  object\n",
            "Joining_Date    datetime64[ns]\n",
            "dtype: object\n",
            "\n",
            " Cleaned Employee Dataset:\n",
            "   EmployeeID     Name Salary Joining_Date\n",
            "0         101    Alice  50000   2021-01-15\n",
            "1         102      Bob  60000   2020-05-20\n",
            "2         103  Charlie  55000   2019-11-10\n",
            "3         104    Diana  70000   2022-07-01\n"
          ]
        }
      ]
    }
  ]
}